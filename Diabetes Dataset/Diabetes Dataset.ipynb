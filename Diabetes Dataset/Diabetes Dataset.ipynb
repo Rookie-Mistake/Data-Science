{
 "cells": [
  {
   "cell_type": "code",
   "execution_count": 2,
   "id": "9f48ba39",
   "metadata": {},
   "outputs": [],
   "source": [
    "import pandas as pd\n",
    "import numpy as np\n",
    "import warnings\n",
    "\n",
    "warnings.filterwarnings(\"ignore\")"
   ]
  },
  {
   "cell_type": "code",
   "execution_count": 3,
   "id": "875892d6",
   "metadata": {},
   "outputs": [],
   "source": [
    "from sklearn.ensemble import RandomForestClassifier\n",
    "\n",
    "rf = RandomForestClassifier()"
   ]
  },
  {
   "cell_type": "code",
   "execution_count": 4,
   "id": "2b78fcda",
   "metadata": {},
   "outputs": [
    {
     "data": {
      "text/html": [
       "<div>\n",
       "<style scoped>\n",
       "    .dataframe tbody tr th:only-of-type {\n",
       "        vertical-align: middle;\n",
       "    }\n",
       "\n",
       "    .dataframe tbody tr th {\n",
       "        vertical-align: top;\n",
       "    }\n",
       "\n",
       "    .dataframe thead th {\n",
       "        text-align: right;\n",
       "    }\n",
       "</style>\n",
       "<table border=\"1\" class=\"dataframe\">\n",
       "  <thead>\n",
       "    <tr style=\"text-align: right;\">\n",
       "      <th></th>\n",
       "      <th>Pregnancies</th>\n",
       "      <th>Glucose</th>\n",
       "      <th>BloodPressure</th>\n",
       "      <th>SkinThickness</th>\n",
       "      <th>Insulin</th>\n",
       "      <th>BMI</th>\n",
       "      <th>DiabetesPedigreeFunction</th>\n",
       "      <th>Age</th>\n",
       "      <th>Outcome</th>\n",
       "    </tr>\n",
       "  </thead>\n",
       "  <tbody>\n",
       "    <tr>\n",
       "      <th>0</th>\n",
       "      <td>6</td>\n",
       "      <td>148</td>\n",
       "      <td>72</td>\n",
       "      <td>35</td>\n",
       "      <td>0</td>\n",
       "      <td>33.6</td>\n",
       "      <td>0.627</td>\n",
       "      <td>50</td>\n",
       "      <td>1</td>\n",
       "    </tr>\n",
       "    <tr>\n",
       "      <th>1</th>\n",
       "      <td>1</td>\n",
       "      <td>85</td>\n",
       "      <td>66</td>\n",
       "      <td>29</td>\n",
       "      <td>0</td>\n",
       "      <td>26.6</td>\n",
       "      <td>0.351</td>\n",
       "      <td>31</td>\n",
       "      <td>0</td>\n",
       "    </tr>\n",
       "    <tr>\n",
       "      <th>2</th>\n",
       "      <td>8</td>\n",
       "      <td>183</td>\n",
       "      <td>64</td>\n",
       "      <td>0</td>\n",
       "      <td>0</td>\n",
       "      <td>23.3</td>\n",
       "      <td>0.672</td>\n",
       "      <td>32</td>\n",
       "      <td>1</td>\n",
       "    </tr>\n",
       "    <tr>\n",
       "      <th>3</th>\n",
       "      <td>1</td>\n",
       "      <td>89</td>\n",
       "      <td>66</td>\n",
       "      <td>23</td>\n",
       "      <td>94</td>\n",
       "      <td>28.1</td>\n",
       "      <td>0.167</td>\n",
       "      <td>21</td>\n",
       "      <td>0</td>\n",
       "    </tr>\n",
       "    <tr>\n",
       "      <th>4</th>\n",
       "      <td>0</td>\n",
       "      <td>137</td>\n",
       "      <td>40</td>\n",
       "      <td>35</td>\n",
       "      <td>168</td>\n",
       "      <td>43.1</td>\n",
       "      <td>2.288</td>\n",
       "      <td>33</td>\n",
       "      <td>1</td>\n",
       "    </tr>\n",
       "  </tbody>\n",
       "</table>\n",
       "</div>"
      ],
      "text/plain": [
       "   Pregnancies  Glucose  BloodPressure  SkinThickness  Insulin   BMI  \\\n",
       "0            6      148             72             35        0  33.6   \n",
       "1            1       85             66             29        0  26.6   \n",
       "2            8      183             64              0        0  23.3   \n",
       "3            1       89             66             23       94  28.1   \n",
       "4            0      137             40             35      168  43.1   \n",
       "\n",
       "   DiabetesPedigreeFunction  Age  Outcome  \n",
       "0                     0.627   50        1  \n",
       "1                     0.351   31        0  \n",
       "2                     0.672   32        1  \n",
       "3                     0.167   21        0  \n",
       "4                     2.288   33        1  "
      ]
     },
     "execution_count": 4,
     "metadata": {},
     "output_type": "execute_result"
    }
   ],
   "source": [
    "df = pd.read_csv(\"diabetes.csv\")\n",
    "df.head()"
   ]
  },
  {
   "cell_type": "code",
   "execution_count": 5,
   "id": "7fd96948",
   "metadata": {},
   "outputs": [
    {
     "data": {
      "text/html": [
       "<div>\n",
       "<style scoped>\n",
       "    .dataframe tbody tr th:only-of-type {\n",
       "        vertical-align: middle;\n",
       "    }\n",
       "\n",
       "    .dataframe tbody tr th {\n",
       "        vertical-align: top;\n",
       "    }\n",
       "\n",
       "    .dataframe thead th {\n",
       "        text-align: right;\n",
       "    }\n",
       "</style>\n",
       "<table border=\"1\" class=\"dataframe\">\n",
       "  <thead>\n",
       "    <tr style=\"text-align: right;\">\n",
       "      <th></th>\n",
       "      <th>Pregnancies</th>\n",
       "      <th>Glucose</th>\n",
       "      <th>BloodPressure</th>\n",
       "      <th>SkinThickness</th>\n",
       "      <th>Insulin</th>\n",
       "      <th>BMI</th>\n",
       "      <th>DiabetesPedigreeFunction</th>\n",
       "      <th>Age</th>\n",
       "      <th>Outcome</th>\n",
       "    </tr>\n",
       "  </thead>\n",
       "  <tbody>\n",
       "    <tr>\n",
       "      <th>count</th>\n",
       "      <td>768.000000</td>\n",
       "      <td>768.000000</td>\n",
       "      <td>768.000000</td>\n",
       "      <td>768.000000</td>\n",
       "      <td>768.000000</td>\n",
       "      <td>768.000000</td>\n",
       "      <td>768.000000</td>\n",
       "      <td>768.000000</td>\n",
       "      <td>768.000000</td>\n",
       "    </tr>\n",
       "    <tr>\n",
       "      <th>mean</th>\n",
       "      <td>3.845052</td>\n",
       "      <td>120.894531</td>\n",
       "      <td>69.105469</td>\n",
       "      <td>20.536458</td>\n",
       "      <td>79.799479</td>\n",
       "      <td>31.992578</td>\n",
       "      <td>0.471876</td>\n",
       "      <td>33.240885</td>\n",
       "      <td>0.348958</td>\n",
       "    </tr>\n",
       "    <tr>\n",
       "      <th>std</th>\n",
       "      <td>3.369578</td>\n",
       "      <td>31.972618</td>\n",
       "      <td>19.355807</td>\n",
       "      <td>15.952218</td>\n",
       "      <td>115.244002</td>\n",
       "      <td>7.884160</td>\n",
       "      <td>0.331329</td>\n",
       "      <td>11.760232</td>\n",
       "      <td>0.476951</td>\n",
       "    </tr>\n",
       "    <tr>\n",
       "      <th>min</th>\n",
       "      <td>0.000000</td>\n",
       "      <td>0.000000</td>\n",
       "      <td>0.000000</td>\n",
       "      <td>0.000000</td>\n",
       "      <td>0.000000</td>\n",
       "      <td>0.000000</td>\n",
       "      <td>0.078000</td>\n",
       "      <td>21.000000</td>\n",
       "      <td>0.000000</td>\n",
       "    </tr>\n",
       "    <tr>\n",
       "      <th>25%</th>\n",
       "      <td>1.000000</td>\n",
       "      <td>99.000000</td>\n",
       "      <td>62.000000</td>\n",
       "      <td>0.000000</td>\n",
       "      <td>0.000000</td>\n",
       "      <td>27.300000</td>\n",
       "      <td>0.243750</td>\n",
       "      <td>24.000000</td>\n",
       "      <td>0.000000</td>\n",
       "    </tr>\n",
       "    <tr>\n",
       "      <th>50%</th>\n",
       "      <td>3.000000</td>\n",
       "      <td>117.000000</td>\n",
       "      <td>72.000000</td>\n",
       "      <td>23.000000</td>\n",
       "      <td>30.500000</td>\n",
       "      <td>32.000000</td>\n",
       "      <td>0.372500</td>\n",
       "      <td>29.000000</td>\n",
       "      <td>0.000000</td>\n",
       "    </tr>\n",
       "    <tr>\n",
       "      <th>75%</th>\n",
       "      <td>6.000000</td>\n",
       "      <td>140.250000</td>\n",
       "      <td>80.000000</td>\n",
       "      <td>32.000000</td>\n",
       "      <td>127.250000</td>\n",
       "      <td>36.600000</td>\n",
       "      <td>0.626250</td>\n",
       "      <td>41.000000</td>\n",
       "      <td>1.000000</td>\n",
       "    </tr>\n",
       "    <tr>\n",
       "      <th>max</th>\n",
       "      <td>17.000000</td>\n",
       "      <td>199.000000</td>\n",
       "      <td>122.000000</td>\n",
       "      <td>99.000000</td>\n",
       "      <td>846.000000</td>\n",
       "      <td>67.100000</td>\n",
       "      <td>2.420000</td>\n",
       "      <td>81.000000</td>\n",
       "      <td>1.000000</td>\n",
       "    </tr>\n",
       "  </tbody>\n",
       "</table>\n",
       "</div>"
      ],
      "text/plain": [
       "       Pregnancies     Glucose  BloodPressure  SkinThickness     Insulin  \\\n",
       "count   768.000000  768.000000     768.000000     768.000000  768.000000   \n",
       "mean      3.845052  120.894531      69.105469      20.536458   79.799479   \n",
       "std       3.369578   31.972618      19.355807      15.952218  115.244002   \n",
       "min       0.000000    0.000000       0.000000       0.000000    0.000000   \n",
       "25%       1.000000   99.000000      62.000000       0.000000    0.000000   \n",
       "50%       3.000000  117.000000      72.000000      23.000000   30.500000   \n",
       "75%       6.000000  140.250000      80.000000      32.000000  127.250000   \n",
       "max      17.000000  199.000000     122.000000      99.000000  846.000000   \n",
       "\n",
       "              BMI  DiabetesPedigreeFunction         Age     Outcome  \n",
       "count  768.000000                768.000000  768.000000  768.000000  \n",
       "mean    31.992578                  0.471876   33.240885    0.348958  \n",
       "std      7.884160                  0.331329   11.760232    0.476951  \n",
       "min      0.000000                  0.078000   21.000000    0.000000  \n",
       "25%     27.300000                  0.243750   24.000000    0.000000  \n",
       "50%     32.000000                  0.372500   29.000000    0.000000  \n",
       "75%     36.600000                  0.626250   41.000000    1.000000  \n",
       "max     67.100000                  2.420000   81.000000    1.000000  "
      ]
     },
     "execution_count": 5,
     "metadata": {},
     "output_type": "execute_result"
    }
   ],
   "source": [
    "df.describe()"
   ]
  },
  {
   "cell_type": "code",
   "execution_count": 6,
   "id": "f795d5c0",
   "metadata": {},
   "outputs": [],
   "source": [
    "def replace_zeros(df, column):\n",
    "    df[column] = np.where(df[column] == 0, df[column].median(), df[column])"
   ]
  },
  {
   "cell_type": "code",
   "execution_count": 7,
   "id": "0cda573f",
   "metadata": {},
   "outputs": [
    {
     "data": {
      "text/plain": [
       "Index(['Pregnancies', 'Glucose', 'BloodPressure', 'SkinThickness', 'Insulin',\n",
       "       'BMI', 'DiabetesPedigreeFunction', 'Age', 'Outcome'],\n",
       "      dtype='object')"
      ]
     },
     "execution_count": 7,
     "metadata": {},
     "output_type": "execute_result"
    }
   ],
   "source": [
    "test_df = df.copy()\n",
    "test_df.columns"
   ]
  },
  {
   "cell_type": "code",
   "execution_count": 8,
   "id": "f3f57604",
   "metadata": {},
   "outputs": [],
   "source": [
    "lista = ['Glucose', 'BloodPressure', 'SkinThickness', 'Insulin',\n",
    "       'BMI']\n",
    "\n",
    "for col in lista:\n",
    "    replace_zeros(test_df, col)"
   ]
  },
  {
   "cell_type": "code",
   "execution_count": 9,
   "id": "3ea1103c",
   "metadata": {},
   "outputs": [
    {
     "data": {
      "text/html": [
       "<div>\n",
       "<style scoped>\n",
       "    .dataframe tbody tr th:only-of-type {\n",
       "        vertical-align: middle;\n",
       "    }\n",
       "\n",
       "    .dataframe tbody tr th {\n",
       "        vertical-align: top;\n",
       "    }\n",
       "\n",
       "    .dataframe thead th {\n",
       "        text-align: right;\n",
       "    }\n",
       "</style>\n",
       "<table border=\"1\" class=\"dataframe\">\n",
       "  <thead>\n",
       "    <tr style=\"text-align: right;\">\n",
       "      <th></th>\n",
       "      <th>Pregnancies</th>\n",
       "      <th>Glucose</th>\n",
       "      <th>BloodPressure</th>\n",
       "      <th>SkinThickness</th>\n",
       "      <th>Insulin</th>\n",
       "      <th>BMI</th>\n",
       "      <th>DiabetesPedigreeFunction</th>\n",
       "      <th>Age</th>\n",
       "      <th>Outcome</th>\n",
       "    </tr>\n",
       "  </thead>\n",
       "  <tbody>\n",
       "    <tr>\n",
       "      <th>count</th>\n",
       "      <td>768.000000</td>\n",
       "      <td>768.000000</td>\n",
       "      <td>768.000000</td>\n",
       "      <td>768.000000</td>\n",
       "      <td>768.000000</td>\n",
       "      <td>768.000000</td>\n",
       "      <td>768.000000</td>\n",
       "      <td>768.000000</td>\n",
       "      <td>768.000000</td>\n",
       "    </tr>\n",
       "    <tr>\n",
       "      <th>mean</th>\n",
       "      <td>3.845052</td>\n",
       "      <td>121.656250</td>\n",
       "      <td>72.386719</td>\n",
       "      <td>27.334635</td>\n",
       "      <td>94.652344</td>\n",
       "      <td>32.450911</td>\n",
       "      <td>0.471876</td>\n",
       "      <td>33.240885</td>\n",
       "      <td>0.348958</td>\n",
       "    </tr>\n",
       "    <tr>\n",
       "      <th>std</th>\n",
       "      <td>3.369578</td>\n",
       "      <td>30.438286</td>\n",
       "      <td>12.096642</td>\n",
       "      <td>9.229014</td>\n",
       "      <td>105.547598</td>\n",
       "      <td>6.875366</td>\n",
       "      <td>0.331329</td>\n",
       "      <td>11.760232</td>\n",
       "      <td>0.476951</td>\n",
       "    </tr>\n",
       "    <tr>\n",
       "      <th>min</th>\n",
       "      <td>0.000000</td>\n",
       "      <td>44.000000</td>\n",
       "      <td>24.000000</td>\n",
       "      <td>7.000000</td>\n",
       "      <td>14.000000</td>\n",
       "      <td>18.200000</td>\n",
       "      <td>0.078000</td>\n",
       "      <td>21.000000</td>\n",
       "      <td>0.000000</td>\n",
       "    </tr>\n",
       "    <tr>\n",
       "      <th>25%</th>\n",
       "      <td>1.000000</td>\n",
       "      <td>99.750000</td>\n",
       "      <td>64.000000</td>\n",
       "      <td>23.000000</td>\n",
       "      <td>30.500000</td>\n",
       "      <td>27.500000</td>\n",
       "      <td>0.243750</td>\n",
       "      <td>24.000000</td>\n",
       "      <td>0.000000</td>\n",
       "    </tr>\n",
       "    <tr>\n",
       "      <th>50%</th>\n",
       "      <td>3.000000</td>\n",
       "      <td>117.000000</td>\n",
       "      <td>72.000000</td>\n",
       "      <td>23.000000</td>\n",
       "      <td>31.250000</td>\n",
       "      <td>32.000000</td>\n",
       "      <td>0.372500</td>\n",
       "      <td>29.000000</td>\n",
       "      <td>0.000000</td>\n",
       "    </tr>\n",
       "    <tr>\n",
       "      <th>75%</th>\n",
       "      <td>6.000000</td>\n",
       "      <td>140.250000</td>\n",
       "      <td>80.000000</td>\n",
       "      <td>32.000000</td>\n",
       "      <td>127.250000</td>\n",
       "      <td>36.600000</td>\n",
       "      <td>0.626250</td>\n",
       "      <td>41.000000</td>\n",
       "      <td>1.000000</td>\n",
       "    </tr>\n",
       "    <tr>\n",
       "      <th>max</th>\n",
       "      <td>17.000000</td>\n",
       "      <td>199.000000</td>\n",
       "      <td>122.000000</td>\n",
       "      <td>99.000000</td>\n",
       "      <td>846.000000</td>\n",
       "      <td>67.100000</td>\n",
       "      <td>2.420000</td>\n",
       "      <td>81.000000</td>\n",
       "      <td>1.000000</td>\n",
       "    </tr>\n",
       "  </tbody>\n",
       "</table>\n",
       "</div>"
      ],
      "text/plain": [
       "       Pregnancies     Glucose  BloodPressure  SkinThickness     Insulin  \\\n",
       "count   768.000000  768.000000     768.000000     768.000000  768.000000   \n",
       "mean      3.845052  121.656250      72.386719      27.334635   94.652344   \n",
       "std       3.369578   30.438286      12.096642       9.229014  105.547598   \n",
       "min       0.000000   44.000000      24.000000       7.000000   14.000000   \n",
       "25%       1.000000   99.750000      64.000000      23.000000   30.500000   \n",
       "50%       3.000000  117.000000      72.000000      23.000000   31.250000   \n",
       "75%       6.000000  140.250000      80.000000      32.000000  127.250000   \n",
       "max      17.000000  199.000000     122.000000      99.000000  846.000000   \n",
       "\n",
       "              BMI  DiabetesPedigreeFunction         Age     Outcome  \n",
       "count  768.000000                768.000000  768.000000  768.000000  \n",
       "mean    32.450911                  0.471876   33.240885    0.348958  \n",
       "std      6.875366                  0.331329   11.760232    0.476951  \n",
       "min     18.200000                  0.078000   21.000000    0.000000  \n",
       "25%     27.500000                  0.243750   24.000000    0.000000  \n",
       "50%     32.000000                  0.372500   29.000000    0.000000  \n",
       "75%     36.600000                  0.626250   41.000000    1.000000  \n",
       "max     67.100000                  2.420000   81.000000    1.000000  "
      ]
     },
     "execution_count": 9,
     "metadata": {},
     "output_type": "execute_result"
    }
   ],
   "source": [
    "test_df.describe()"
   ]
  },
  {
   "cell_type": "code",
   "execution_count": 10,
   "id": "747673e5",
   "metadata": {},
   "outputs": [],
   "source": [
    "from sklearn.model_selection import train_test_split\n",
    "\n",
    "X = test_df.drop(\"Outcome\", axis=1)\n",
    "y = test_df[\"Outcome\"]"
   ]
  },
  {
   "cell_type": "code",
   "execution_count": 11,
   "id": "f98e30ac",
   "metadata": {},
   "outputs": [],
   "source": [
    "X_train, X_test, y_train, y_test = train_test_split(X, y, test_size=0.2, random_state=0)"
   ]
  },
  {
   "cell_type": "code",
   "execution_count": 12,
   "id": "aecfcb13",
   "metadata": {},
   "outputs": [],
   "source": [
    "rf_classifier = RandomForestClassifier(n_estimators=10)\n",
    "rf_classifier.fit(X_train, y_train)\n",
    "\n",
    "pred = rf_classifier.predict(X_test)"
   ]
  },
  {
   "cell_type": "code",
   "execution_count": 13,
   "id": "2bad630f",
   "metadata": {},
   "outputs": [
    {
     "name": "stdout",
     "output_type": "stream",
     "text": [
      "[[93 14]\n",
      " [18 29]]\n",
      "0.7922077922077922\n",
      "              precision    recall  f1-score   support\n",
      "\n",
      "           0       0.84      0.87      0.85       107\n",
      "           1       0.67      0.62      0.64        47\n",
      "\n",
      "    accuracy                           0.79       154\n",
      "   macro avg       0.76      0.74      0.75       154\n",
      "weighted avg       0.79      0.79      0.79       154\n",
      "\n"
     ]
    }
   ],
   "source": [
    "from sklearn.metrics import confusion_matrix, classification_report, accuracy_score\n",
    "\n",
    "print(confusion_matrix(y_test, pred))\n",
    "print(accuracy_score(y_test, pred))\n",
    "print(classification_report(y_test, pred))"
   ]
  },
  {
   "cell_type": "markdown",
   "id": "351d7f73",
   "metadata": {},
   "source": [
    "# Random Search CV"
   ]
  },
  {
   "cell_type": "markdown",
   "id": "9432d2d6",
   "metadata": {},
   "source": [
    "Procura Random e por isso é maia rápido, melhor para quando temos muitas features"
   ]
  },
  {
   "cell_type": "code",
   "execution_count": 13,
   "id": "11f5eff2",
   "metadata": {},
   "outputs": [],
   "source": [
    "from sklearn.model_selection import RandomizedSearchCV\n",
    "\n",
    "# Number of trees\n",
    "n_estimatores = [int(x) for x in np.linspace(start=200, stop=2000, num=10)]\n",
    "\n",
    "#number of features to consider in every split\n",
    "max_features = [\"auto\", \"sqrt\", \"log2\"]\n",
    "\n",
    "#max number od level in the tree\n",
    "max_dept = [int(x) for x in np.linspace(start=10, stop=1000, num=10)]\n",
    "\n",
    "#min number of samples required to split a node\n",
    "min_samples_split = [1, 3, 4, 5, 7, 9, 10, 14]\n",
    "\n",
    "#min number of samples required at each leaf node\n",
    "min_samples_leaf = [1, 2, 4, 6, 8]\n",
    "\n",
    "#Random Grid\n",
    "random_grid = {\n",
    "    \"n_estimators\":n_estimatores,\n",
    "    \"max_features\":max_features,\n",
    "    \"max_depth\":max_dept,\n",
    "    \"min_samples_split\":min_samples_split,\n",
    "    \"min_samples_leaf\":min_samples_leaf,\n",
    "    \"criterion\":[\"entropy\", \"gini\"]\n",
    "}"
   ]
  },
  {
   "cell_type": "code",
   "execution_count": 14,
   "id": "d3dbeb41",
   "metadata": {},
   "outputs": [],
   "source": [
    "rf_randomcv = RandomizedSearchCV(estimator=rf, param_distributions=random_grid, n_iter=100, cv=3, verbose=2, random_state=0, n_jobs=-1)"
   ]
  },
  {
   "cell_type": "code",
   "execution_count": 15,
   "id": "bc454c48",
   "metadata": {},
   "outputs": [
    {
     "name": "stdout",
     "output_type": "stream",
     "text": [
      "Fitting 3 folds for each of 100 candidates, totalling 300 fits\n"
     ]
    },
    {
     "data": {
      "text/plain": [
       "RandomizedSearchCV(cv=3, estimator=RandomForestClassifier(), n_iter=100,\n",
       "                   n_jobs=-1,\n",
       "                   param_distributions={'criterion': ['entropy', 'gini'],\n",
       "                                        'max_depth': [10, 120, 230, 340, 450,\n",
       "                                                      560, 670, 780, 890,\n",
       "                                                      1000],\n",
       "                                        'max_features': ['auto', 'sqrt',\n",
       "                                                         'log2'],\n",
       "                                        'min_samples_leaf': [1, 2, 4, 6, 8],\n",
       "                                        'min_samples_split': [1, 3, 4, 5, 7, 9,\n",
       "                                                              10, 14],\n",
       "                                        'n_estimators': [200, 400, 600, 800,\n",
       "                                                         1000, 1200, 1400, 1600,\n",
       "                                                         1800, 2000]},\n",
       "                   random_state=0, verbose=2)"
      ]
     },
     "execution_count": 15,
     "metadata": {},
     "output_type": "execute_result"
    }
   ],
   "source": [
    "rf_randomcv.fit(X_train, y_train)"
   ]
  },
  {
   "cell_type": "code",
   "execution_count": 16,
   "id": "6033e7c0",
   "metadata": {},
   "outputs": [
    {
     "data": {
      "text/plain": [
       "{'n_estimators': 1800,\n",
       " 'min_samples_split': 10,\n",
       " 'min_samples_leaf': 1,\n",
       " 'max_features': 'auto',\n",
       " 'max_depth': 560,\n",
       " 'criterion': 'gini'}"
      ]
     },
     "execution_count": 16,
     "metadata": {},
     "output_type": "execute_result"
    }
   ],
   "source": [
    "rf_randomcv.best_params_"
   ]
  },
  {
   "cell_type": "code",
   "execution_count": 15,
   "id": "1c917a38",
   "metadata": {},
   "outputs": [],
   "source": [
    "best_rf = RandomForestClassifier(max_depth=560, max_features='auto', min_samples_leaf=1,\n",
    "                       min_samples_split=10, n_estimators=1800, criterion=\"gini\")"
   ]
  },
  {
   "cell_type": "code",
   "execution_count": 16,
   "id": "fa3792f8",
   "metadata": {},
   "outputs": [
    {
     "name": "stdout",
     "output_type": "stream",
     "text": [
      "[[95 12]\n",
      " [14 33]]\n",
      "0.8311688311688312\n",
      "              precision    recall  f1-score   support\n",
      "\n",
      "           0       0.87      0.89      0.88       107\n",
      "           1       0.73      0.70      0.72        47\n",
      "\n",
      "    accuracy                           0.83       154\n",
      "   macro avg       0.80      0.79      0.80       154\n",
      "weighted avg       0.83      0.83      0.83       154\n",
      "\n"
     ]
    }
   ],
   "source": [
    "best_rf.fit(X_train, y_train)\n",
    "\n",
    "pred = best_rf.predict(X_test)\n",
    "\n",
    "print(confusion_matrix(y_test, pred))\n",
    "print(accuracy_score(y_test, pred))\n",
    "print(classification_report(y_test, pred))"
   ]
  },
  {
   "cell_type": "markdown",
   "id": "75bb6b9a",
   "metadata": {},
   "source": [
    "# Grid Search CV "
   ]
  },
  {
   "cell_type": "code",
   "execution_count": 17,
   "id": "85a442ce",
   "metadata": {},
   "outputs": [],
   "source": [
    "grid_parms = {'criterion': [\"gini\"],\n",
    "              'max_depth': [560],\n",
    "              'max_features': [\"auto\"],\n",
    "              'min_samples_leaf': [1, 2, 3, 4],\n",
    "              'min_samples_split': [8, 9, 10, 11, 12],\n",
    "              'n_estimators': [1700, 1800, 1900]\n",
    "}"
   ]
  },
  {
   "cell_type": "code",
   "execution_count": 18,
   "id": "34b8650f",
   "metadata": {},
   "outputs": [
    {
     "name": "stdout",
     "output_type": "stream",
     "text": [
      "Fitting 10 folds for each of 60 candidates, totalling 600 fits\n"
     ]
    },
    {
     "data": {
      "text/plain": [
       "GridSearchCV(cv=10, estimator=RandomForestClassifier(), n_jobs=-1,\n",
       "             param_grid={'criterion': ['gini'], 'max_depth': [560],\n",
       "                         'max_features': ['auto'],\n",
       "                         'min_samples_leaf': [1, 2, 3, 4],\n",
       "                         'min_samples_split': [8, 9, 10, 11, 12],\n",
       "                         'n_estimators': [1700, 1800, 1900]},\n",
       "             verbose=2)"
      ]
     },
     "execution_count": 18,
     "metadata": {},
     "output_type": "execute_result"
    }
   ],
   "source": [
    "#### Fit the grid_search to the data\n",
    "from sklearn.model_selection import GridSearchCV\n",
    "rf=RandomForestClassifier()\n",
    "\n",
    "grid_search = GridSearchCV(estimator=rf, param_grid=grid_parms, cv=10, n_jobs=-1, verbose=2)\n",
    "\n",
    "grid_search.fit(X_train,y_train)"
   ]
  },
  {
   "cell_type": "code",
   "execution_count": 19,
   "id": "ae10283b",
   "metadata": {},
   "outputs": [
    {
     "data": {
      "text/plain": [
       "{'criterion': 'gini',\n",
       " 'max_depth': 560,\n",
       " 'max_features': 'auto',\n",
       " 'min_samples_leaf': 2,\n",
       " 'min_samples_split': 9,\n",
       " 'n_estimators': 1900}"
      ]
     },
     "execution_count": 19,
     "metadata": {},
     "output_type": "execute_result"
    }
   ],
   "source": [
    "grid_search.best_params_"
   ]
  },
  {
   "cell_type": "code",
   "execution_count": 18,
   "id": "bc6c5ce8",
   "metadata": {},
   "outputs": [
    {
     "name": "stdout",
     "output_type": "stream",
     "text": [
      "[[96 11]\n",
      " [15 32]]\n",
      "0.8311688311688312\n",
      "              precision    recall  f1-score   support\n",
      "\n",
      "           0       0.86      0.90      0.88       107\n",
      "           1       0.74      0.68      0.71        47\n",
      "\n",
      "    accuracy                           0.83       154\n",
      "   macro avg       0.80      0.79      0.80       154\n",
      "weighted avg       0.83      0.83      0.83       154\n",
      "\n"
     ]
    }
   ],
   "source": [
    "best_rf = RandomForestClassifier(max_depth=560, max_features='auto', min_samples_leaf=2,\n",
    "                       min_samples_split=9, n_estimators=1900, criterion=\"gini\")\n",
    "\n",
    "best_rf.fit(X_train, y_train)\n",
    "\n",
    "pred = best_rf.predict(X_test)\n",
    "\n",
    "print(confusion_matrix(y_test, pred))\n",
    "print(accuracy_score(y_test, pred))\n",
    "print(classification_report(y_test, pred))"
   ]
  },
  {
   "cell_type": "markdown",
   "id": "38f349a0",
   "metadata": {},
   "source": [
    "# Bayesian Optimization"
   ]
  },
  {
   "cell_type": "code",
   "execution_count": 19,
   "id": "01e73edc",
   "metadata": {},
   "outputs": [],
   "source": [
    "from hyperopt import hp, fmin, tpe, STATUS_OK, Trials"
   ]
  },
  {
   "cell_type": "code",
   "execution_count": 20,
   "id": "cfb9125b",
   "metadata": {},
   "outputs": [],
   "source": [
    "space = {\n",
    "    'criterion': hp.choice('criterion', ['entropy', 'gini']),\n",
    "    'max_depth': hp.quniform('max_depth', 10, 1200, 10),\n",
    "    'max_features': hp.choice('max_features', ['auto', 'sqrt','log2', None]),\n",
    "    'min_samples_leaf': hp.uniform('min_samples_leaf', 0, 0.5),\n",
    "    'min_samples_split' : hp.uniform ('min_samples_split', 0, 1),\n",
    "    'n_estimators' : hp.choice('n_estimators', [10, 50, 300, 750, 1200,1300,1500])\n",
    "}"
   ]
  },
  {
   "cell_type": "code",
   "execution_count": 21,
   "id": "31717b25",
   "metadata": {},
   "outputs": [
    {
     "data": {
      "text/plain": [
       "{'criterion': <hyperopt.pyll.base.Apply at 0x222e8cb3610>,\n",
       " 'max_depth': <hyperopt.pyll.base.Apply at 0x222e8cb3160>,\n",
       " 'max_features': <hyperopt.pyll.base.Apply at 0x222e8cb3040>,\n",
       " 'min_samples_leaf': <hyperopt.pyll.base.Apply at 0x222e8ca7cd0>,\n",
       " 'min_samples_split': <hyperopt.pyll.base.Apply at 0x222e8ca7e50>,\n",
       " 'n_estimators': <hyperopt.pyll.base.Apply at 0x222e8ca7b80>}"
      ]
     },
     "execution_count": 21,
     "metadata": {},
     "output_type": "execute_result"
    }
   ],
   "source": [
    "space"
   ]
  },
  {
   "cell_type": "code",
   "execution_count": 22,
   "id": "e1c9a586",
   "metadata": {},
   "outputs": [],
   "source": [
    "def objective(space):\n",
    "    model = RandomForestClassifier(criterion = space['criterion'], max_depth = space['max_depth'],\n",
    "                                 max_features = space['max_features'],\n",
    "                                 min_samples_leaf = space['min_samples_leaf'],\n",
    "                                 min_samples_split = space['min_samples_split'],\n",
    "                                 n_estimators = space['n_estimators'], \n",
    "                                 )\n",
    "    \n",
    "    accuracy = cross_val_score(model, X_train, y_train, cv = 5).mean()\n",
    "\n",
    "    # We aim to maximize accuracy, therefore we return it as a negative value\n",
    "    return {'loss': -accuracy, 'status': STATUS_OK }"
   ]
  },
  {
   "cell_type": "code",
   "execution_count": 24,
   "id": "982cc3a0",
   "metadata": {},
   "outputs": [
    {
     "name": "stdout",
     "output_type": "stream",
     "text": [
      "100%|█████████████████████████████████████████████████████████████████████████████████████████████████████████| 80/80 [02:39<00:00,  2.00s/trial, best loss: -0.7671864587498335]\n"
     ]
    },
    {
     "data": {
      "text/plain": [
       "{'criterion': 1,\n",
       " 'max_depth': 620.0,\n",
       " 'max_features': 2,\n",
       " 'min_samples_leaf': 0.0029327474749909765,\n",
       " 'min_samples_split': 0.11064421683172612,\n",
       " 'n_estimators': 1}"
      ]
     },
     "execution_count": 24,
     "metadata": {},
     "output_type": "execute_result"
    }
   ],
   "source": [
    "from sklearn.model_selection import cross_val_score\n",
    "trials = Trials()\n",
    "best = fmin(fn= objective,\n",
    "            space= space,\n",
    "            algo= tpe.suggest,\n",
    "            max_evals = 80,\n",
    "            trials= trials)\n",
    "best"
   ]
  },
  {
   "cell_type": "code",
   "execution_count": 25,
   "id": "5c65f6cd",
   "metadata": {},
   "outputs": [
    {
     "name": "stdout",
     "output_type": "stream",
     "text": [
      "gini\n",
      "log2\n",
      "50\n"
     ]
    }
   ],
   "source": [
    "crit = {0: 'entropy', 1: 'gini'}\n",
    "feat = {0: 'auto', 1: 'sqrt', 2: 'log2', 3: None}\n",
    "est = {0:10, 1:50, 2:300, 3:750, 4:1200, 5:1300, 6:1500}\n",
    "\n",
    "\n",
    "print(crit[best['criterion']])\n",
    "print(feat[best['max_features']])\n",
    "print(est[best['n_estimators']])"
   ]
  },
  {
   "cell_type": "code",
   "execution_count": 26,
   "id": "53a7654a",
   "metadata": {},
   "outputs": [
    {
     "data": {
      "text/plain": [
       "0.0029327474749909765"
      ]
     },
     "execution_count": 26,
     "metadata": {},
     "output_type": "execute_result"
    }
   ],
   "source": [
    "best['min_samples_leaf']"
   ]
  },
  {
   "cell_type": "code",
   "execution_count": 28,
   "id": "1d4e1ad6",
   "metadata": {},
   "outputs": [
    {
     "name": "stdout",
     "output_type": "stream",
     "text": [
      "[[96 11]\n",
      " [22 25]]\n",
      "0.7857142857142857\n",
      "              precision    recall  f1-score   support\n",
      "\n",
      "           0       0.81      0.90      0.85       107\n",
      "           1       0.69      0.53      0.60        47\n",
      "\n",
      "    accuracy                           0.79       154\n",
      "   macro avg       0.75      0.71      0.73       154\n",
      "weighted avg       0.78      0.79      0.78       154\n",
      "\n"
     ]
    }
   ],
   "source": [
    "trainedforest = RandomForestClassifier(criterion = crit[best['criterion']], max_depth = best['max_depth'], \n",
    "                                       max_features = feat[best['max_features']], \n",
    "                                       min_samples_leaf = best['min_samples_leaf'], \n",
    "                                       min_samples_split = best['min_samples_split'], \n",
    "                                       n_estimators = est[best['n_estimators']]).fit(X_train,y_train)\n",
    "predictionforest = trainedforest.predict(X_test)\n",
    "print(confusion_matrix(y_test,predictionforest))\n",
    "print(accuracy_score(y_test,predictionforest))\n",
    "print(classification_report(y_test,predictionforest))\n",
    "acc5 = accuracy_score(y_test,predictionforest)"
   ]
  },
  {
   "cell_type": "markdown",
   "id": "selected-murray",
   "metadata": {},
   "source": [
    "# Genetic Algorithms"
   ]
  },
  {
   "cell_type": "code",
   "execution_count": 32,
   "id": "tired-prague",
   "metadata": {},
   "outputs": [
    {
     "name": "stdout",
     "output_type": "stream",
     "text": [
      "{'n_estimators': [200, 400, 600, 800, 1000, 1200, 1400, 1600, 1800, 2000], 'max_features': ['auto', 'sqrt', 'log2'], 'max_depth': [10, 120, 230, 340, 450, 560, 670, 780, 890, 1000], 'min_samples_split': [2, 5, 10, 14], 'min_samples_leaf': [1, 2, 4, 6, 8], 'criterion': ['entropy', 'gini']}\n"
     ]
    }
   ],
   "source": [
    "# Number of trees in random forest\n",
    "n_estimators = [int(x) for x in np.linspace(start = 200, stop = 2000, num = 10)]\n",
    "# Number of features to consider at every split\n",
    "max_features = ['auto', 'sqrt','log2']\n",
    "# Maximum number of levels in tree\n",
    "max_depth = [int(x) for x in np.linspace(10, 1000,10)]\n",
    "# Minimum number of samples required to split a node\n",
    "min_samples_split = [2, 5, 10,14]\n",
    "# Minimum number of samples required at each leaf node\n",
    "min_samples_leaf = [1, 2, 4,6,8]\n",
    "# Create the random grid\n",
    "params = {'n_estimators': n_estimators,\n",
    "               'max_features': max_features,\n",
    "               'max_depth': max_depth,\n",
    "               'min_samples_split': min_samples_split,\n",
    "               'min_samples_leaf': min_samples_leaf,\n",
    "              'criterion':['entropy','gini']}\n",
    "print(params)"
   ]
  },
  {
   "cell_type": "markdown",
   "id": "dedicated-juice",
   "metadata": {},
   "source": [
    "from tpot import TPOTClassifier\n",
    "\n",
    "tpot_classifier = TPOTClassifier(generations=5, population_size=24,\n",
    "                                 offspring_size=12, verbosity=2, \n",
    "                                 early_stop=12, config_dict = {\"sklearn.ensemble.RandomForestClassifier\":params},\n",
    "                                 cv=4, scoring=\"accuracy\")\n",
    "\n",
    "tpot_classifier.fit(X_train, y_train)"
   ]
  },
  {
   "cell_type": "code",
   "execution_count": 35,
   "id": "governmental-minute",
   "metadata": {},
   "outputs": [
    {
     "name": "stdout",
     "output_type": "stream",
     "text": [
      "0.8311688311688312\n"
     ]
    }
   ],
   "source": [
    "accuracy = tpot_classifier.score(X_test, y_test)\n",
    "print(accuracy)"
   ]
  },
  {
   "cell_type": "markdown",
   "id": "copyrighted-vehicle",
   "metadata": {},
   "source": [
    "## Optuna Optimazation"
   ]
  },
  {
   "cell_type": "code",
   "execution_count": 18,
   "id": "mathematical-behavior",
   "metadata": {},
   "outputs": [],
   "source": [
    "import optuna\n",
    "import sklearn.svm\n",
    "\n",
    "def objective(trial):\n",
    "    \n",
    "    classifier = trial.suggest_categorical(\"classifier\", [\"RandomForest\", \"SVC\"])\n",
    "    \n",
    "    if classifier == \"RandomForest\":\n",
    "        n_estimators = trial.suggest_int(\"n_estimatores\", 20, 2000, 10)\n",
    "        max_depth = int(trial.suggest_float(\"max_depth\", 10, 100, log=True))\n",
    "        \n",
    "        clf = sklearn.ensemble.RandomForestClassifier(\n",
    "            n_estimators = n_estimators, max_depth = max_depth)\n",
    "    \n",
    "    else:\n",
    "        c = trial.suggest_float(\"svc_c\", 1e-10, 1e10, log=True)\n",
    "        \n",
    "        clf = sklearn.svm.SVC(C=c, gamma=\"auto\")\n",
    "    \n",
    "    return sklearn.model_selection.cross_val_score(\n",
    "    clf, X_train, y_train, n_jobs=-1, cv=3).mean()\n",
    "    \n",
    "    \n",
    "    "
   ]
  },
  {
   "cell_type": "code",
   "execution_count": 19,
   "id": "square-briefs",
   "metadata": {},
   "outputs": [
    {
     "name": "stderr",
     "output_type": "stream",
     "text": [
      "\u001b[32m[I 2022-09-07 12:59:07,501]\u001b[0m A new study created in memory with name: no-name-3c402ac7-e60d-440c-991c-8b49b4cb2b29\u001b[0m\n",
      "\u001b[32m[I 2022-09-07 12:59:09,287]\u001b[0m Trial 0 finished with value: 0.744293001753547 and parameters: {'classifier': 'RandomForest', 'n_estimatores': 1410, 'max_depth': 53.17483678626121}. Best is trial 0 with value: 0.744293001753547.\u001b[0m\n",
      "\u001b[32m[I 2022-09-07 12:59:09,862]\u001b[0m Trial 1 finished with value: 0.640068547744301 and parameters: {'classifier': 'SVC', 'svc_c': 0.026699367657519915}. Best is trial 0 with value: 0.744293001753547.\u001b[0m\n",
      "\u001b[32m[I 2022-09-07 12:59:10,448]\u001b[0m Trial 2 finished with value: 0.640068547744301 and parameters: {'classifier': 'SVC', 'svc_c': 68795.2915941226}. Best is trial 0 with value: 0.744293001753547.\u001b[0m\n",
      "\u001b[32m[I 2022-09-07 12:59:11,304]\u001b[0m Trial 3 finished with value: 0.7459030766778256 and parameters: {'classifier': 'RandomForest', 'n_estimatores': 1010, 'max_depth': 88.35721220966434}. Best is trial 3 with value: 0.7459030766778256.\u001b[0m\n",
      "\u001b[32m[I 2022-09-07 12:59:12,675]\u001b[0m Trial 4 finished with value: 0.7410329985652798 and parameters: {'classifier': 'RandomForest', 'n_estimatores': 1700, 'max_depth': 48.59607440234423}. Best is trial 3 with value: 0.7459030766778256.\u001b[0m\n",
      "\u001b[32m[I 2022-09-07 12:59:12,693]\u001b[0m Trial 5 finished with value: 0.640068547744301 and parameters: {'classifier': 'SVC', 'svc_c': 9.810030885883375e-06}. Best is trial 3 with value: 0.7459030766778256.\u001b[0m\n",
      "\u001b[32m[I 2022-09-07 12:59:12,808]\u001b[0m Trial 6 finished with value: 0.7312450183325363 and parameters: {'classifier': 'RandomForest', 'n_estimatores': 100, 'max_depth': 35.276673471489374}. Best is trial 3 with value: 0.7459030766778256.\u001b[0m\n",
      "\u001b[32m[I 2022-09-07 12:59:12,973]\u001b[0m Trial 7 finished with value: 0.7296269727403156 and parameters: {'classifier': 'RandomForest', 'n_estimatores': 190, 'max_depth': 34.21994581428929}. Best is trial 3 with value: 0.7459030766778256.\u001b[0m\n",
      "\u001b[32m[I 2022-09-07 12:59:14,595]\u001b[0m Trial 8 finished with value: 0.7410329985652798 and parameters: {'classifier': 'RandomForest', 'n_estimatores': 2000, 'max_depth': 44.150031610461305}. Best is trial 3 with value: 0.7459030766778256.\u001b[0m\n",
      "\u001b[32m[I 2022-09-07 12:59:14,806]\u001b[0m Trial 9 finished with value: 0.7377729953770126 and parameters: {'classifier': 'RandomForest', 'n_estimatores': 200, 'max_depth': 15.961628527399649}. Best is trial 3 with value: 0.7459030766778256.\u001b[0m\n",
      "\u001b[32m[I 2022-09-07 12:59:14,827]\u001b[0m Trial 10 finished with value: 0.640068547744301 and parameters: {'classifier': 'SVC', 'svc_c': 1.2249826549033244e-10}. Best is trial 3 with value: 0.7459030766778256.\u001b[0m\n",
      "\u001b[32m[I 2022-09-07 12:59:15,762]\u001b[0m Trial 11 finished with value: 0.7426510441575004 and parameters: {'classifier': 'RandomForest', 'n_estimatores': 1140, 'max_depth': 89.02584038756272}. Best is trial 3 with value: 0.7459030766778256.\u001b[0m\n",
      "\u001b[32m[I 2022-09-07 12:59:16,666]\u001b[0m Trial 12 finished with value: 0.7377650247090707 and parameters: {'classifier': 'RandomForest', 'n_estimatores': 1100, 'max_depth': 96.07407374357088}. Best is trial 3 with value: 0.7459030766778256.\u001b[0m\n",
      "\u001b[32m[I 2022-09-07 12:59:17,825]\u001b[0m Trial 13 finished with value: 0.7410170572293958 and parameters: {'classifier': 'RandomForest', 'n_estimatores': 1430, 'max_depth': 64.22180563651686}. Best is trial 3 with value: 0.7459030766778256.\u001b[0m\n",
      "\u001b[32m[I 2022-09-07 12:59:18,388]\u001b[0m Trial 14 finished with value: 0.7393990116371753 and parameters: {'classifier': 'RandomForest', 'n_estimatores': 670, 'max_depth': 17.709192176246475}. Best is trial 3 with value: 0.7459030766778256.\u001b[0m\n",
      "\u001b[32m[I 2022-09-07 12:59:18,980]\u001b[0m Trial 15 finished with value: 0.7459190180137095 and parameters: {'classifier': 'RandomForest', 'n_estimatores': 720, 'max_depth': 64.50197065706976}. Best is trial 15 with value: 0.7459190180137095.\u001b[0m\n",
      "\u001b[32m[I 2022-09-07 12:59:19,548]\u001b[0m Trial 16 finished with value: 0.7426510441575004 and parameters: {'classifier': 'RandomForest', 'n_estimatores': 680, 'max_depth': 73.61326687439373}. Best is trial 15 with value: 0.7459190180137095.\u001b[0m\n",
      "\u001b[32m[I 2022-09-07 12:59:20,156]\u001b[0m Trial 17 finished with value: 0.7410250278973378 and parameters: {'classifier': 'RandomForest', 'n_estimatores': 740, 'max_depth': 25.275824104107354}. Best is trial 15 with value: 0.7459190180137095.\u001b[0m\n",
      "\u001b[32m[I 2022-09-07 12:59:20,184]\u001b[0m Trial 18 finished with value: 0.640068547744301 and parameters: {'classifier': 'SVC', 'svc_c': 78422508.71082953}. Best is trial 15 with value: 0.7459190180137095.\u001b[0m\n",
      "\u001b[32m[I 2022-09-07 12:59:20,830]\u001b[0m Trial 19 finished with value: 0.7426510441575004 and parameters: {'classifier': 'RandomForest', 'n_estimatores': 790, 'max_depth': 72.00606150529383}. Best is trial 15 with value: 0.7459190180137095.\u001b[0m\n",
      "\u001b[32m[I 2022-09-07 12:59:21,193]\u001b[0m Trial 20 finished with value: 0.7410329985652798 and parameters: {'classifier': 'RandomForest', 'n_estimatores': 440, 'max_depth': 23.46516671655124}. Best is trial 15 with value: 0.7459190180137095.\u001b[0m\n",
      "\u001b[32m[I 2022-09-07 12:59:22,306]\u001b[0m Trial 21 finished with value: 0.7426510441575004 and parameters: {'classifier': 'RandomForest', 'n_estimatores': 1350, 'max_depth': 55.156556418203174}. Best is trial 15 with value: 0.7459190180137095.\u001b[0m\n",
      "\u001b[32m[I 2022-09-07 12:59:23,141]\u001b[0m Trial 22 finished with value: 0.7393990116371753 and parameters: {'classifier': 'RandomForest', 'n_estimatores': 970, 'max_depth': 98.96131029822051}. Best is trial 15 with value: 0.7459190180137095.\u001b[0m\n",
      "\u001b[32m[I 2022-09-07 12:59:24,267]\u001b[0m Trial 23 finished with value: 0.7377729953770126 and parameters: {'classifier': 'RandomForest', 'n_estimatores': 1400, 'max_depth': 58.52014838564004}. Best is trial 15 with value: 0.7459190180137095.\u001b[0m\n",
      "\u001b[32m[I 2022-09-07 12:59:25,083]\u001b[0m Trial 24 finished with value: 0.7361310377809661 and parameters: {'classifier': 'RandomForest', 'n_estimatores': 990, 'max_depth': 74.08285515811194}. Best is trial 15 with value: 0.7459190180137095.\u001b[0m\n",
      "\u001b[32m[I 2022-09-07 12:59:26,434]\u001b[0m Trial 25 finished with value: 0.744285031085605 and parameters: {'classifier': 'RandomForest', 'n_estimatores': 1680, 'max_depth': 11.768828088747371}. Best is trial 15 with value: 0.7459190180137095.\u001b[0m\n",
      "\u001b[32m[I 2022-09-07 12:59:26,461]\u001b[0m Trial 26 finished with value: 0.640068547744301 and parameters: {'classifier': 'SVC', 'svc_c': 414.06862878135667}. Best is trial 15 with value: 0.7459190180137095.\u001b[0m\n",
      "\u001b[32m[I 2022-09-07 12:59:26,871]\u001b[0m Trial 27 finished with value: 0.7377729953770126 and parameters: {'classifier': 'RandomForest', 'n_estimatores': 490, 'max_depth': 42.738614181755445}. Best is trial 15 with value: 0.7459190180137095.\u001b[0m\n",
      "\u001b[32m[I 2022-09-07 12:59:27,863]\u001b[0m Trial 28 finished with value: 0.7377809660449546 and parameters: {'classifier': 'RandomForest', 'n_estimatores': 1220, 'max_depth': 77.90657889482439}. Best is trial 15 with value: 0.7459190180137095.\u001b[0m\n",
      "\u001b[32m[I 2022-09-07 12:59:27,890]\u001b[0m Trial 29 finished with value: 0.640068547744301 and parameters: {'classifier': 'SVC', 'svc_c': 2527978317.3578434}. Best is trial 15 with value: 0.7459190180137095.\u001b[0m\n",
      "\u001b[32m[I 2022-09-07 12:59:28,595]\u001b[0m Trial 30 finished with value: 0.7393910409692332 and parameters: {'classifier': 'RandomForest', 'n_estimatores': 870, 'max_depth': 48.42839151475604}. Best is trial 15 with value: 0.7459190180137095.\u001b[0m\n",
      "\u001b[32m[I 2022-09-07 12:59:29,920]\u001b[0m Trial 31 finished with value: 0.7475370636059302 and parameters: {'classifier': 'RandomForest', 'n_estimatores': 1630, 'max_depth': 10.575945306346968}. Best is trial 31 with value: 0.7475370636059302.\u001b[0m\n",
      "\u001b[32m[I 2022-09-07 12:59:31,311]\u001b[0m Trial 32 finished with value: 0.7426510441575004 and parameters: {'classifier': 'RandomForest', 'n_estimatores': 1670, 'max_depth': 12.105064693775518}. Best is trial 31 with value: 0.7475370636059302.\u001b[0m\n",
      "\u001b[32m[I 2022-09-07 12:59:32,844]\u001b[0m Trial 33 finished with value: 0.7410250278973378 and parameters: {'classifier': 'RandomForest', 'n_estimatores': 1890, 'max_depth': 59.44516770616232}. Best is trial 31 with value: 0.7475370636059302.\u001b[0m\n",
      "\u001b[32m[I 2022-09-07 12:59:32,867]\u001b[0m Trial 34 finished with value: 0.640068547744301 and parameters: {'classifier': 'SVC', 'svc_c': 2.9879565320460254e-10}. Best is trial 31 with value: 0.7475370636059302.\u001b[0m\n"
     ]
    },
    {
     "name": "stderr",
     "output_type": "stream",
     "text": [
      "\u001b[32m[I 2022-09-07 12:59:34,164]\u001b[0m Trial 35 finished with value: 0.7426590148254424 and parameters: {'classifier': 'RandomForest', 'n_estimatores': 1570, 'max_depth': 28.04088930899035}. Best is trial 31 with value: 0.7475370636059302.\u001b[0m\n",
      "\u001b[32m[I 2022-09-07 12:59:35,235]\u001b[0m Trial 36 finished with value: 0.7442770604176631 and parameters: {'classifier': 'RandomForest', 'n_estimatores': 1240, 'max_depth': 20.275112863770005}. Best is trial 31 with value: 0.7475370636059302.\u001b[0m\n",
      "\u001b[32m[I 2022-09-07 12:59:36,517]\u001b[0m Trial 37 finished with value: 0.7410250278973378 and parameters: {'classifier': 'RandomForest', 'n_estimatores': 1550, 'max_depth': 81.67823247986709}. Best is trial 31 with value: 0.7475370636059302.\u001b[0m\n",
      "\u001b[32m[I 2022-09-07 12:59:38,008]\u001b[0m Trial 38 finished with value: 0.7426510441575004 and parameters: {'classifier': 'RandomForest', 'n_estimatores': 1820, 'max_depth': 52.01562368667745}. Best is trial 31 with value: 0.7475370636059302.\u001b[0m\n",
      "\u001b[32m[I 2022-09-07 12:59:38,037]\u001b[0m Trial 39 finished with value: 0.640068547744301 and parameters: {'classifier': 'SVC', 'svc_c': 0.0020184194818858685}. Best is trial 31 with value: 0.7475370636059302.\u001b[0m\n",
      "\u001b[32m[I 2022-09-07 12:59:38,425]\u001b[0m Trial 40 finished with value: 0.7507970667941973 and parameters: {'classifier': 'RandomForest', 'n_estimatores': 450, 'max_depth': 40.15745405428953}. Best is trial 40 with value: 0.7507970667941973.\u001b[0m\n",
      "\u001b[32m[I 2022-09-07 12:59:38,865]\u001b[0m Trial 41 finished with value: 0.7442770604176631 and parameters: {'classifier': 'RandomForest', 'n_estimatores': 510, 'max_depth': 39.52469505212463}. Best is trial 40 with value: 0.7507970667941973.\u001b[0m\n",
      "\u001b[32m[I 2022-09-07 12:59:39,175]\u001b[0m Trial 42 finished with value: 0.7475450342738722 and parameters: {'classifier': 'RandomForest', 'n_estimatores': 350, 'max_depth': 66.12154576448609}. Best is trial 40 with value: 0.7507970667941973.\u001b[0m\n",
      "\u001b[32m[I 2022-09-07 12:59:39,497]\u001b[0m Trial 43 finished with value: 0.7361230671130241 and parameters: {'classifier': 'RandomForest', 'n_estimatores': 350, 'max_depth': 64.3184257859317}. Best is trial 40 with value: 0.7507970667941973.\u001b[0m\n",
      "\u001b[32m[I 2022-09-07 12:59:40,002]\u001b[0m Trial 44 finished with value: 0.7410329985652798 and parameters: {'classifier': 'RandomForest', 'n_estimatores': 590, 'max_depth': 31.44121670839987}. Best is trial 40 with value: 0.7507970667941973.\u001b[0m\n",
      "\u001b[32m[I 2022-09-07 12:59:40,283]\u001b[0m Trial 45 finished with value: 0.7393830703012912 and parameters: {'classifier': 'RandomForest', 'n_estimatores': 310, 'max_depth': 10.101142282222883}. Best is trial 40 with value: 0.7507970667941973.\u001b[0m\n",
      "\u001b[32m[I 2022-09-07 12:59:40,331]\u001b[0m Trial 46 finished with value: 0.7393990116371753 and parameters: {'classifier': 'RandomForest', 'n_estimatores': 40, 'max_depth': 36.4515674560281}. Best is trial 40 with value: 0.7507970667941973.\u001b[0m\n",
      "\u001b[32m[I 2022-09-07 12:59:41,121]\u001b[0m Trial 47 finished with value: 0.73614697911685 and parameters: {'classifier': 'RandomForest', 'n_estimatores': 880, 'max_depth': 84.33484221892054}. Best is trial 40 with value: 0.7507970667941973.\u001b[0m\n",
      "\u001b[32m[I 2022-09-07 12:59:41,287]\u001b[0m Trial 48 finished with value: 0.7377729953770126 and parameters: {'classifier': 'RandomForest', 'n_estimatores': 190, 'max_depth': 66.90887218227974}. Best is trial 40 with value: 0.7507970667941973.\u001b[0m\n",
      "\u001b[32m[I 2022-09-07 12:59:41,793]\u001b[0m Trial 49 finished with value: 0.7410170572293958 and parameters: {'classifier': 'RandomForest', 'n_estimatores': 600, 'max_depth': 44.84581120798657}. Best is trial 40 with value: 0.7507970667941973.\u001b[0m\n",
      "\u001b[32m[I 2022-09-07 12:59:41,828]\u001b[0m Trial 50 finished with value: 0.640068547744301 and parameters: {'classifier': 'SVC', 'svc_c': 287.16515190613757}. Best is trial 40 with value: 0.7507970667941973.\u001b[0m\n",
      "\u001b[32m[I 2022-09-07 12:59:42,168]\u001b[0m Trial 51 finished with value: 0.7491551091981509 and parameters: {'classifier': 'RandomForest', 'n_estimatores': 400, 'max_depth': 48.542722250380336}. Best is trial 40 with value: 0.7507970667941973.\u001b[0m\n",
      "\u001b[32m[I 2022-09-07 12:59:42,450]\u001b[0m Trial 52 finished with value: 0.7426510441575004 and parameters: {'classifier': 'RandomForest', 'n_estimatores': 320, 'max_depth': 50.392879186650546}. Best is trial 40 with value: 0.7507970667941973.\u001b[0m\n",
      "\u001b[32m[I 2022-09-07 12:59:42,802]\u001b[0m Trial 53 finished with value: 0.736139008448908 and parameters: {'classifier': 'RandomForest', 'n_estimatores': 400, 'max_depth': 40.58954690126276}. Best is trial 40 with value: 0.7507970667941973.\u001b[0m\n",
      "\u001b[32m[I 2022-09-07 12:59:43,277]\u001b[0m Trial 54 finished with value: 0.7328869759285829 and parameters: {'classifier': 'RandomForest', 'n_estimatores': 570, 'max_depth': 33.30541534138792}. Best is trial 40 with value: 0.7507970667941973.\u001b[0m\n",
      "\u001b[32m[I 2022-09-07 12:59:43,472]\u001b[0m Trial 55 finished with value: 0.7426590148254424 and parameters: {'classifier': 'RandomForest', 'n_estimatores': 220, 'max_depth': 92.3052941766811}. Best is trial 40 with value: 0.7507970667941973.\u001b[0m\n",
      "\u001b[32m[I 2022-09-07 12:59:44,163]\u001b[0m Trial 56 finished with value: 0.7459110473457676 and parameters: {'classifier': 'RandomForest', 'n_estimatores': 790, 'max_depth': 67.37401728848081}. Best is trial 40 with value: 0.7507970667941973.\u001b[0m\n",
      "\u001b[32m[I 2022-09-07 12:59:44,847]\u001b[0m Trial 57 finished with value: 0.7410250278973378 and parameters: {'classifier': 'RandomForest', 'n_estimatores': 780, 'max_depth': 60.22448060853997}. Best is trial 40 with value: 0.7507970667941973.\u001b[0m\n",
      "\u001b[32m[I 2022-09-07 12:59:45,437]\u001b[0m Trial 58 finished with value: 0.7393990116371753 and parameters: {'classifier': 'RandomForest', 'n_estimatores': 690, 'max_depth': 46.45096282765383}. Best is trial 40 with value: 0.7507970667941973.\u001b[0m\n",
      "\u001b[32m[I 2022-09-07 12:59:45,828]\u001b[0m Trial 59 finished with value: 0.7426590148254424 and parameters: {'classifier': 'RandomForest', 'n_estimatores': 460, 'max_depth': 68.33127671248155}. Best is trial 40 with value: 0.7507970667941973.\u001b[0m\n",
      "\u001b[32m[I 2022-09-07 12:59:46,576]\u001b[0m Trial 60 finished with value: 0.7377650247090707 and parameters: {'classifier': 'RandomForest', 'n_estimatores': 880, 'max_depth': 57.46988724806713}. Best is trial 40 with value: 0.7507970667941973.\u001b[0m\n",
      "\u001b[32m[I 2022-09-07 12:59:46,783]\u001b[0m Trial 61 finished with value: 0.736139008448908 and parameters: {'classifier': 'RandomForest', 'n_estimatores': 220, 'max_depth': 82.08235664552757}. Best is trial 40 with value: 0.7507970667941973.\u001b[0m\n",
      "\u001b[32m[I 2022-09-07 12:59:47,679]\u001b[0m Trial 62 finished with value: 0.7394069823051171 and parameters: {'classifier': 'RandomForest', 'n_estimatores': 1080, 'max_depth': 54.35942129623396}. Best is trial 40 with value: 0.7507970667941973.\u001b[0m\n",
      "\u001b[32m[I 2022-09-07 12:59:48,473]\u001b[0m Trial 63 finished with value: 0.7459030766778256 and parameters: {'classifier': 'RandomForest', 'n_estimatores': 940, 'max_depth': 71.45572111179254}. Best is trial 40 with value: 0.7507970667941973.\u001b[0m\n",
      "\u001b[32m[I 2022-09-07 12:59:49,015]\u001b[0m Trial 64 finished with value: 0.7410250278973378 and parameters: {'classifier': 'RandomForest', 'n_estimatores': 640, 'max_depth': 72.83809192039027}. Best is trial 40 with value: 0.7507970667941973.\u001b[0m\n",
      "\u001b[32m[I 2022-09-07 12:59:49,137]\u001b[0m Trial 65 finished with value: 0.7393910409692332 and parameters: {'classifier': 'RandomForest', 'n_estimatores': 120, 'max_depth': 62.225059347786235}. Best is trial 40 with value: 0.7507970667941973.\u001b[0m\n",
      "\u001b[32m[I 2022-09-07 12:59:49,919]\u001b[0m Trial 66 finished with value: 0.7377729953770126 and parameters: {'classifier': 'RandomForest', 'n_estimatores': 920, 'max_depth': 36.48533953305769}. Best is trial 40 with value: 0.7507970667941973.\u001b[0m\n",
      "\u001b[32m[I 2022-09-07 12:59:50,560]\u001b[0m Trial 67 finished with value: 0.7345129921887454 and parameters: {'classifier': 'RandomForest', 'n_estimatores': 760, 'max_depth': 51.274812027954226}. Best is trial 40 with value: 0.7507970667941973.\u001b[0m\n",
      "\u001b[32m[I 2022-09-07 12:59:50,585]\u001b[0m Trial 68 finished with value: 0.640068547744301 and parameters: {'classifier': 'SVC', 'svc_c': 5.7592125010887e-07}. Best is trial 40 with value: 0.7507970667941973.\u001b[0m\n",
      "\u001b[32m[I 2022-09-07 12:59:51,526]\u001b[0m Trial 69 finished with value: 0.7410329985652798 and parameters: {'classifier': 'RandomForest', 'n_estimatores': 1050, 'max_depth': 29.047478498011273}. Best is trial 40 with value: 0.7507970667941973.\u001b[0m\n"
     ]
    },
    {
     "name": "stderr",
     "output_type": "stream",
     "text": [
      "\u001b[32m[I 2022-09-07 12:59:52,217]\u001b[0m Trial 70 finished with value: 0.7426749561613263 and parameters: {'classifier': 'RandomForest', 'n_estimatores': 820, 'max_depth': 15.153566667153752}. Best is trial 40 with value: 0.7507970667941973.\u001b[0m\n",
      "\u001b[32m[I 2022-09-07 12:59:53,307]\u001b[0m Trial 71 finished with value: 0.7394069823051171 and parameters: {'classifier': 'RandomForest', 'n_estimatores': 1270, 'max_depth': 89.10885364115374}. Best is trial 40 with value: 0.7507970667941973.\u001b[0m\n",
      "\u001b[32m[I 2022-09-07 12:59:54,095]\u001b[0m Trial 72 finished with value: 0.7410250278973378 and parameters: {'classifier': 'RandomForest', 'n_estimatores': 930, 'max_depth': 76.23565944851596}. Best is trial 40 with value: 0.7507970667941973.\u001b[0m\n",
      "\u001b[32m[I 2022-09-07 12:59:55,065]\u001b[0m Trial 73 finished with value: 0.7426590148254424 and parameters: {'classifier': 'RandomForest', 'n_estimatores': 1120, 'max_depth': 68.84745413820215}. Best is trial 40 with value: 0.7507970667941973.\u001b[0m\n",
      "\u001b[32m[I 2022-09-07 12:59:55,919]\u001b[0m Trial 74 finished with value: 0.7393910409692332 and parameters: {'classifier': 'RandomForest', 'n_estimatores': 1010, 'max_depth': 99.01988735946905}. Best is trial 40 with value: 0.7507970667941973.\u001b[0m\n",
      "\u001b[32m[I 2022-09-07 12:59:56,255]\u001b[0m Trial 75 finished with value: 0.7475370636059302 and parameters: {'classifier': 'RandomForest', 'n_estimatores': 390, 'max_depth': 84.86815352509741}. Best is trial 40 with value: 0.7507970667941973.\u001b[0m\n",
      "\u001b[32m[I 2022-09-07 12:59:56,723]\u001b[0m Trial 76 finished with value: 0.7393910409692332 and parameters: {'classifier': 'RandomForest', 'n_estimatores': 530, 'max_depth': 79.04536726017056}. Best is trial 40 with value: 0.7507970667941973.\u001b[0m\n",
      "\u001b[32m[I 2022-09-07 12:59:56,749]\u001b[0m Trial 77 finished with value: 0.640068547744301 and parameters: {'classifier': 'SVC', 'svc_c': 899261.2156502984}. Best is trial 40 with value: 0.7507970667941973.\u001b[0m\n",
      "\u001b[32m[I 2022-09-07 12:59:57,078]\u001b[0m Trial 78 finished with value: 0.7410250278973378 and parameters: {'classifier': 'RandomForest', 'n_estimatores': 370, 'max_depth': 88.55939162099354}. Best is trial 40 with value: 0.7507970667941973.\u001b[0m\n",
      "\u001b[32m[I 2022-09-07 12:59:57,319]\u001b[0m Trial 79 finished with value: 0.7345129921887454 and parameters: {'classifier': 'RandomForest', 'n_estimatores': 280, 'max_depth': 63.134636050551755}. Best is trial 40 with value: 0.7507970667941973.\u001b[0m\n",
      "\u001b[32m[I 2022-09-07 12:59:57,930]\u001b[0m Trial 80 finished with value: 0.7394069823051171 and parameters: {'classifier': 'RandomForest', 'n_estimatores': 720, 'max_depth': 54.66034584738326}. Best is trial 40 with value: 0.7507970667941973.\u001b[0m\n",
      "\u001b[32m[I 2022-09-07 12:59:58,297]\u001b[0m Trial 81 finished with value: 0.7377570540411287 and parameters: {'classifier': 'RandomForest', 'n_estimatores': 430, 'max_depth': 68.57046416413556}. Best is trial 40 with value: 0.7507970667941973.\u001b[0m\n",
      "\u001b[32m[I 2022-09-07 12:59:59,284]\u001b[0m Trial 82 finished with value: 0.7459110473457676 and parameters: {'classifier': 'RandomForest', 'n_estimatores': 1180, 'max_depth': 85.18224329981469}. Best is trial 40 with value: 0.7507970667941973.\u001b[0m\n",
      "\u001b[32m[I 2022-09-07 13:00:00,559]\u001b[0m Trial 83 finished with value: 0.7377809660449546 and parameters: {'classifier': 'RandomForest', 'n_estimatores': 1520, 'max_depth': 74.10969326293872}. Best is trial 40 with value: 0.7507970667941973.\u001b[0m\n",
      "\u001b[32m[I 2022-09-07 13:00:01,108]\u001b[0m Trial 84 finished with value: 0.7410250278973378 and parameters: {'classifier': 'RandomForest', 'n_estimatores': 640, 'max_depth': 84.44047277239403}. Best is trial 40 with value: 0.7507970667941973.\u001b[0m\n",
      "\u001b[32m[I 2022-09-07 13:00:02,718]\u001b[0m Trial 85 finished with value: 0.744285031085605 and parameters: {'classifier': 'RandomForest', 'n_estimatores': 1960, 'max_depth': 94.54045173255926}. Best is trial 40 with value: 0.7507970667941973.\u001b[0m\n",
      "\u001b[32m[I 2022-09-07 13:00:03,817]\u001b[0m Trial 86 finished with value: 0.7410250278973378 and parameters: {'classifier': 'RandomForest', 'n_estimatores': 1300, 'max_depth': 41.76515308099042}. Best is trial 40 with value: 0.7507970667941973.\u001b[0m\n",
      "\u001b[32m[I 2022-09-07 13:00:04,049]\u001b[0m Trial 87 finished with value: 0.7410170572293958 and parameters: {'classifier': 'RandomForest', 'n_estimatores': 270, 'max_depth': 22.940113768101018}. Best is trial 40 with value: 0.7507970667941973.\u001b[0m\n",
      "\u001b[32m[I 2022-09-07 13:00:05,520]\u001b[0m Trial 88 finished with value: 0.7410329985652798 and parameters: {'classifier': 'RandomForest', 'n_estimatores': 1780, 'max_depth': 87.50841829398772}. Best is trial 40 with value: 0.7507970667941973.\u001b[0m\n",
      "\u001b[32m[I 2022-09-07 13:00:05,546]\u001b[0m Trial 89 finished with value: 0.640068547744301 and parameters: {'classifier': 'SVC', 'svc_c': 34.565550902622945}. Best is trial 40 with value: 0.7507970667941973.\u001b[0m\n",
      "\u001b[32m[I 2022-09-07 13:00:05,994]\u001b[0m Trial 90 finished with value: 0.7410409692332217 and parameters: {'classifier': 'RandomForest', 'n_estimatores': 530, 'max_depth': 38.63312063545578}. Best is trial 40 with value: 0.7507970667941973.\u001b[0m\n",
      "\u001b[32m[I 2022-09-07 13:00:06,960]\u001b[0m Trial 91 finished with value: 0.7393990116371753 and parameters: {'classifier': 'RandomForest', 'n_estimatores': 1150, 'max_depth': 78.76776816089094}. Best is trial 40 with value: 0.7507970667941973.\u001b[0m\n",
      "\u001b[32m[I 2022-09-07 13:00:07,789]\u001b[0m Trial 92 finished with value: 0.7410329985652798 and parameters: {'classifier': 'RandomForest', 'n_estimatores': 990, 'max_depth': 70.7527433482485}. Best is trial 40 with value: 0.7507970667941973.\u001b[0m\n",
      "\u001b[32m[I 2022-09-07 13:00:08,501]\u001b[0m Trial 93 finished with value: 0.7393990116371753 and parameters: {'classifier': 'RandomForest', 'n_estimatores': 840, 'max_depth': 65.35048222787084}. Best is trial 40 with value: 0.7507970667941973.\u001b[0m\n",
      "\u001b[32m[I 2022-09-07 13:00:08,827]\u001b[0m Trial 94 finished with value: 0.7426430734895585 and parameters: {'classifier': 'RandomForest', 'n_estimatores': 390, 'max_depth': 57.49766631268543}. Best is trial 40 with value: 0.7507970667941973.\u001b[0m\n",
      "\u001b[32m[I 2022-09-07 13:00:09,237]\u001b[0m Trial 95 finished with value: 0.736154949784792 and parameters: {'classifier': 'RandomForest', 'n_estimatores': 470, 'max_depth': 77.67656757837258}. Best is trial 40 with value: 0.7507970667941973.\u001b[0m\n",
      "\u001b[32m[I 2022-09-07 13:00:10,220]\u001b[0m Trial 96 finished with value: 0.7426430734895585 and parameters: {'classifier': 'RandomForest', 'n_estimatores': 1170, 'max_depth': 83.40173718601294}. Best is trial 40 with value: 0.7507970667941973.\u001b[0m\n",
      "\u001b[32m[I 2022-09-07 13:00:10,346]\u001b[0m Trial 97 finished with value: 0.7263669695520485 and parameters: {'classifier': 'RandomForest', 'n_estimatores': 130, 'max_depth': 45.869589204858926}. Best is trial 40 with value: 0.7507970667941973.\u001b[0m\n",
      "\u001b[32m[I 2022-09-07 13:00:11,642]\u001b[0m Trial 98 finished with value: 0.7426510441575004 and parameters: {'classifier': 'RandomForest', 'n_estimatores': 1470, 'max_depth': 15.055151993214242}. Best is trial 40 with value: 0.7507970667941973.\u001b[0m\n",
      "\u001b[32m[I 2022-09-07 13:00:12,542]\u001b[0m Trial 99 finished with value: 0.7410250278973378 and parameters: {'classifier': 'RandomForest', 'n_estimatores': 1050, 'max_depth': 61.10174829206104}. Best is trial 40 with value: 0.7507970667941973.\u001b[0m\n"
     ]
    },
    {
     "name": "stdout",
     "output_type": "stream",
     "text": [
      "Accuracy: 0.7507970667941973\n",
      "Best Hyperparameters: {'classifier': 'RandomForest', 'n_estimatores': 450, 'max_depth': 40.15745405428953}\n"
     ]
    }
   ],
   "source": [
    "study = optuna.create_study(direction=\"maximize\")\n",
    "study.optimize(objective, n_trials=100)\n",
    "\n",
    "trial = study.best_trial\n",
    "\n",
    "print(f\"Accuracy: {trial.value}\")\n",
    "print(f\"Best Hyperparameters: {trial.params}\")"
   ]
  },
  {
   "cell_type": "code",
   "execution_count": 55,
   "id": "controlled-assist",
   "metadata": {},
   "outputs": [
    {
     "name": "stderr",
     "output_type": "stream",
     "text": [
      "\u001b[33m[W 2022-09-07 14:21:50,963]\u001b[0m Output figures of this Matplotlib-based `plot_contour` function would be different from those of the Plotly-based `plot_contour`.\u001b[0m\n"
     ]
    },
    {
     "data": {
      "text/plain": [
       "<AxesSubplot:title={'center':'Contour Plot'}, xlabel='max_depth', ylabel='n_estimatores'>"
      ]
     },
     "execution_count": 55,
     "metadata": {},
     "output_type": "execute_result"
    },
    {
     "data": {
      "image/png": "[encoded data removed]",
      "text/plain": [
       "<Figure size 432x288 with 2 Axes>"
      ]
     },
     "metadata": {},
     "output_type": "display_data"
    }
   ],
   "source": [
    "#plt.figure(figsize=(3000, 3000))\n",
    "optuna.visualization.matplotlib.plot_contour(study, params=[\"n_estimatores\", \"max_depth\"])"
   ]
  },
  {
   "cell_type": "code",
   "execution_count": 47,
   "id": "compact-microwave",
   "metadata": {},
   "outputs": [
    {
     "data": {
      "text/plain": [
       "array([<AxesSubplot:xlabel='classifier', ylabel='Objective Value'>,\n",
       "       <AxesSubplot:xlabel='max_depth'>,\n",
       "       <AxesSubplot:xlabel='n_estimatores'>, <AxesSubplot:xlabel='svc_c'>],\n",
       "      dtype=object)"
      ]
     },
     "execution_count": 47,
     "metadata": {},
     "output_type": "execute_result"
    },
    {
     "data": {
      "text/plain": [
       "<Figure size 28800x28800 with 0 Axes>"
      ]
     },
     "metadata": {},
     "output_type": "display_data"
    },
    {
     "data": {
      "image/png": "[encoded data removed]",
      "text/plain": [
       "<Figure size 864x288 with 5 Axes>"
      ]
     },
     "metadata": {},
     "output_type": "display_data"
    }
   ],
   "source": [
    "plt.figure(figsize=(400, 400))\n",
    "optuna.visualization.matplotlib.plot_slice(study)"
   ]
  },
  {
   "cell_type": "code",
   "execution_count": 56,
   "id": "oriented-satin",
   "metadata": {},
   "outputs": [
    {
     "data": {
      "text/plain": [
       "<AxesSubplot:title={'center':'Optimization History Plot'}, xlabel='Trial', ylabel='Objective Value'>"
      ]
     },
     "execution_count": 56,
     "metadata": {},
     "output_type": "execute_result"
    },
    {
     "data": {
      "image/png": "[encoded data removed]",
      "text/plain": [
       "<Figure size 432x288 with 1 Axes>"
      ]
     },
     "metadata": {},
     "output_type": "display_data"
    }
   ],
   "source": [
    "optuna.visualization.matplotlib.plot_optimization_history(study)"
   ]
  },
  {
   "cell_type": "code",
   "execution_count": 60,
   "id": "healthy-enclosure",
   "metadata": {},
   "outputs": [],
   "source": [
    "#'classifier': 'RandomForest', 'n_estimatores': 450, 'max_depth': 40.15745405428953}\n",
    "from sklearn.ensemble import RandomForestClassifier\n",
    "rf = RandomForestClassifier(n_estimators=450, max_depth=40.15745405428953)"
   ]
  },
  {
   "cell_type": "code",
   "execution_count": 61,
   "id": "entertaining-charm",
   "metadata": {},
   "outputs": [
    {
     "data": {
      "text/plain": [
       "RandomForestClassifier(max_depth=40.15745405428953, n_estimators=450)"
      ]
     },
     "execution_count": 61,
     "metadata": {},
     "output_type": "execute_result"
    }
   ],
   "source": [
    "rf.fit(X_train, y_train)"
   ]
  },
  {
   "cell_type": "code",
   "execution_count": 63,
   "id": "hazardous-dinner",
   "metadata": {},
   "outputs": [],
   "source": [
    "y_pred = rf.predict(X_test)"
   ]
  },
  {
   "cell_type": "code",
   "execution_count": 67,
   "id": "defensive-discretion",
   "metadata": {},
   "outputs": [
    {
     "name": "stdout",
     "output_type": "stream",
     "text": [
      "[[94 13]\n",
      " [15 32]]\n",
      "0.8181818181818182\n",
      "              precision    recall  f1-score   support\n",
      "\n",
      "           0       0.86      0.88      0.87       107\n",
      "           1       0.71      0.68      0.70        47\n",
      "\n",
      "    accuracy                           0.82       154\n",
      "   macro avg       0.79      0.78      0.78       154\n",
      "weighted avg       0.82      0.82      0.82       154\n",
      "\n"
     ]
    }
   ],
   "source": [
    "print(confusion_matrix(y_test, y_pred))\n",
    "print(accuracy_score(y_test, y_pred))\n",
    "print(classification_report(y_test, y_pred))"
   ]
  },
  {
   "cell_type": "code",
   "execution_count": null,
   "id": "unique-beverage",
   "metadata": {},
   "outputs": [],
   "source": []
  }
 ],
 "metadata": {
  "kernelspec": {
   "display_name": "Python 3",
   "language": "python",
   "name": "python3"
  },
  "language_info": {
   "codemirror_mode": {
    "name": "ipython",
    "version": 3
   },
   "file_extension": ".py",
   "mimetype": "text/x-python",
   "name": "python",
   "nbconvert_exporter": "python",
   "pygments_lexer": "ipython3",
   "version": "3.9.1"
  }
 },
 "nbformat": 4,
 "nbformat_minor": 5
}
